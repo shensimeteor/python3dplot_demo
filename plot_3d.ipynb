{
 "cells": [
  {
   "cell_type": "code",
   "execution_count": 1,
   "metadata": {},
   "outputs": [],
   "source": [
    "import pickle\n",
    "import ipympl\n",
    "import numpy as np\n",
    "from mpl_toolkits.mplot3d import Axes3D\n",
    "import matplotlib.pyplot as plt\n",
    "\n",
    "plt.set_cmap(\"jet\")\n",
    "\n",
    "#u3d, v3d： m/s, dx, dy: m\n",
    "def calc_curl_div(u3d, v3d, dx, dy):\n",
    "    nx,ny,nz=u3d.shape\n",
    "    print(u3d.shape)\n",
    "    print(len([dx,dy]))\n",
    "    print(len([0,1]))    \n",
    "    du_dx,du_dy,du_dz = np.gradient(u3d, 1)\n",
    "    dv_dx,dv_dy,dv_dz = np.gradient(v3d, 1)\n",
    "    curl3d = dv_dx - du_dy\n",
    "    div3d = du_dx + dv_dy\n",
    "    return (curl3d, div3d)\n",
    "    \n",
    "#filter scatter points where abs(var3d) < filter_value \n",
    "def plot_scatter3d(x1d, y1d, z1d, var3d, filter_value=0, title=\"\"):\n",
    "    xy_step=1 #to control density of scatter\n",
    "    z_step=1  #to control dnesity of scatter\n",
    "    x1d_s=x1d[::xy_step]\n",
    "    y1d_s=y1d[::xy_step]\n",
    "    z1d_s=z1d[::z_step]\n",
    "    var3d_s=var3d[::xy_step, ::xy_step, ::z_step]\n",
    "    nx=len(x1d_s)\n",
    "    ny=len(y1d_s)\n",
    "    nz=len(z1d_s)\n",
    "    print(\"(%d,%d,%d)\"%(nx,ny,nz))\n",
    "    x3d,y3d,z3d=np.meshgrid(x1d_s,y1d_s,z1d_s,indexing='ij')\n",
    "    x3d_to1d=x3d.reshape((nx*ny*nz),order='F')\n",
    "    y3d_to1d=y3d.reshape((nx*ny*nz),order='F')\n",
    "    z3d_to1d=z3d.reshape((nx*ny*nz),order='F')\n",
    "    var3d_to1d=var3d_s.reshape((nx*ny*nz),order='F')\n",
    "    var3d_to1d_f=var3d_to1d[np.abs(var3d_to1d)>=filter_value]\n",
    "    x3d_to1d_f=x3d_to1d[np.abs(var3d_to1d)>=filter_value]\n",
    "    y3d_to1d_f=y3d_to1d[np.abs(var3d_to1d)>=filter_value]\n",
    "    z3d_to1d_f=z3d_to1d[np.abs(var3d_to1d)>=filter_value]\n",
    "    absmax_var3d=np.max(np.abs(var3d_to1d_f))\n",
    "    fig=plt.figure()\n",
    "    ax = fig.add_subplot(111, projection='3d')\n",
    "    p=ax.scatter(x3d_to1d_f, y3d_to1d_f, z3d_to1d_f, c=var3d_to1d_f, vmin=-absmax_var3d, vmax=absmax_var3d)\n",
    "    fig.colorbar(p)\n",
    "    ax.set_xlabel('Lon')\n",
    "    ax.set_ylabel('Lat')\n",
    "    ax.set_zlabel('Z')\n",
    "    plt.title(title)\n",
    "    plt.show()\n",
    "\n",
    "\n",
    "def plot_quiver3d(x1d, y1d, z1d, u3d, v3d, filter_uv_value=0, title=\"\"):\n",
    "    xy_step=2\n",
    "    z_step=2\n",
    "    x1d_s=x1d[::xy_step]\n",
    "    y1d_s=y1d[::xy_step]\n",
    "    z1d_s=z1d[::z_step]\n",
    "    u3d_s=u3d[::xy_step, ::xy_step, ::z_step]\n",
    "    v3d_s=v3d[::xy_step, ::xy_step, ::z_step]\n",
    "    nx=len(x1d_s)\n",
    "    ny=len(y1d_s)\n",
    "    nz=len(z1d_s)\n",
    "    print(\"(%d,%d,%d)\"%(nx,ny,nz))\n",
    "    x3d,y3d,z3d=np.meshgrid(x1d_s,y1d_s,z1d_s,indexing='ij')\n",
    "    x3d_to1d=x3d.reshape((nx*ny*nz),order='F')\n",
    "    y3d_to1d=y3d.reshape((nx*ny*nz),order='F')\n",
    "    z3d_to1d=z3d.reshape((nx*ny*nz),order='F')\n",
    "    u3d_to1d=u3d_s.reshape((nx*ny*nz),order='F')\n",
    "    v3d_to1d=v3d_s.reshape((nx*ny*nz),order='F')\n",
    "    uv3d_to1d=np.sqrt(u3d_to1d**2 + v3d_to1d**2)\n",
    "    uv3d_to1d_f=uv3d_to1d[uv3d_to1d >= filter_uv_value]\n",
    "    u3d_to1d_f=u3d_to1d[uv3d_to1d >= filter_uv_value]\n",
    "    v3d_to1d_f=v3d_to1d[uv3d_to1d >= filter_uv_value]\n",
    "    x3d_to1d_f=x3d_to1d[uv3d_to1d >= filter_uv_value]\n",
    "    y3d_to1d_f=y3d_to1d[uv3d_to1d >= filter_uv_value]\n",
    "    z3d_to1d_f=z3d_to1d[uv3d_to1d >= filter_uv_value]\n",
    "    fig=plt.figure()\n",
    "    cmap=plt.get_cmap()\n",
    "    ax = fig.add_subplot(111, projection='3d')\n",
    "    cvalue=(z3d_to1d_f-15)/20\n",
    "    #cvalue=(uv3d_to1d_f)/np.max(uv3d_to1d_f)\n",
    "    p=ax.quiver(x3d_to1d_f, y3d_to1d_f, z3d_to1d_f, u3d_to1d_f, v3d_to1d_f, 0, color=cmap(cvalue), \\\n",
    "              length=1,  arrow_length_ratio=0.5,  normalize=True)\n",
    "    plt.title(title)\n",
    "    ax.set_xlabel('Lon')\n",
    "    ax.set_ylabel('Lat')\n",
    "    ax.set_zlabel('Z')\n",
    "    plt.show()"
   ]
  },
  {
   "cell_type": "code",
   "execution_count": 7,
   "metadata": {},
   "outputs": [
    {
     "name": "stdout",
     "output_type": "stream",
     "text": [
      "(37, 37, 21)\n",
      "2\n",
      "2\n"
     ]
    }
   ],
   "source": [
    "with open(\"local_evec5d_xb.pickle\",\"rb\") as f:\n",
    "    dct_xb=pickle.load(f,encoding='latin1')\n",
    "evec5d_xb=dct_xb[\"evec5d\"]\n",
    "#print(evec5d_xb)\n",
    "\n",
    "filter_t=[0.001,0.001,0.0015,0.0015,0.002,0.002]  #to add & tune, for every mode\n",
    "filter_uv=[0.008,0.008,0.01,0.01,0.01,0.01,0.01]  #to add & tune, for every mode\n",
    "filter_curl=[0.002,0.002,0.002,0.002,0.002,0.002]  #to add & tune, for every mode\n",
    "filter_div=[0.002,0.002,0.002,0.002,0.002,0.002] #to add & tune, for every mode\n",
    "imode=0\n",
    "t3d=evec5d_xb[:,:,:,0,imode]\n",
    "u3d=evec5d_xb[:,:,:,1,imode]\n",
    "v3d=evec5d_xb[:,:,:,2,imode]\n",
    "x1d=np.arange(-18,19,1)\n",
    "y1d=np.arange(-18,19,1)\n",
    "z1d=np.arange(14,35,1)\n",
    "x3d,y3d,z3d=np.meshgrid(x1d,y1d,z1d,indexing='ij')\n",
    "curl3d, div3d=calc_curl_div(u3d, v3d, 1, 1)"
   ]
  },
  {
   "cell_type": "code",
   "execution_count": 8,
   "metadata": {},
   "outputs": [
    {
     "name": "stdout",
     "output_type": "stream",
     "text": [
      "(37,37,21)\n"
     ]
    },
    {
     "data": {
      "application/vnd.jupyter.widget-view+json": {
       "model_id": "1fdf5848bd524b33a9f54c8aaf8d2aab",
       "version_major": 2,
       "version_minor": 0
      },
      "text/plain": [
       "A Jupyter Widget"
      ]
     },
     "metadata": {},
     "output_type": "display_data"
    },
    {
     "name": "stdout",
     "output_type": "stream",
     "text": [
      "(37,37,21)\n"
     ]
    },
    {
     "data": {
      "application/vnd.jupyter.widget-view+json": {
       "model_id": "d6c369791d114c50b19d6c9bc1958fe8",
       "version_major": 2,
       "version_minor": 0
      },
      "text/plain": [
       "A Jupyter Widget"
      ]
     },
     "metadata": {},
     "output_type": "display_data"
    },
    {
     "name": "stdout",
     "output_type": "stream",
     "text": [
      "(37,37,21)\n"
     ]
    },
    {
     "data": {
      "application/vnd.jupyter.widget-view+json": {
       "model_id": "86bcf3d537304addad9fc342042116bb",
       "version_major": 2,
       "version_minor": 0
      },
      "text/plain": [
       "A Jupyter Widget"
      ]
     },
     "metadata": {},
     "output_type": "display_data"
    },
    {
     "name": "stdout",
     "output_type": "stream",
     "text": [
      "(37,37,21)\n"
     ]
    },
    {
     "data": {
      "application/vnd.jupyter.widget-view+json": {
       "model_id": "69d3ae1fc76340e585235c3bfa4075e7",
       "version_major": 2,
       "version_minor": 0
      },
      "text/plain": [
       "A Jupyter Widget"
      ]
     },
     "metadata": {},
     "output_type": "display_data"
    },
    {
     "name": "stdout",
     "output_type": "stream",
     "text": [
      "(37,37,21)\n"
     ]
    },
    {
     "data": {
      "application/vnd.jupyter.widget-view+json": {
       "model_id": "f1da9119f6794785a7b5d83a48cf6acb",
       "version_major": 2,
       "version_minor": 0
      },
      "text/plain": [
       "A Jupyter Widget"
      ]
     },
     "metadata": {},
     "output_type": "display_data"
    },
    {
     "name": "stdout",
     "output_type": "stream",
     "text": [
      "(37,37,21)\n"
     ]
    },
    {
     "data": {
      "application/vnd.jupyter.widget-view+json": {
       "model_id": "6d389ebbf8ac4479ab851bf8bf5c28be",
       "version_major": 2,
       "version_minor": 0
      },
      "text/plain": [
       "A Jupyter Widget"
      ]
     },
     "metadata": {},
     "output_type": "display_data"
    }
   ],
   "source": [
    "plot_scatter3d(x1d,y1d,z1d,t3d,filter_t[imode],\"T mode%d\"%(imode+1))\n",
    "plt.close(0)\n",
    "plot_scatter3d(x1d,y1d,z1d,t3d,filter_t[imode],\"T mode%d\"%(imode+1))\n",
    "plot_scatter3d(x1d,y1d,z1d,u3d,filter_uv[imode], \"U mode%d\"%(imode+1))\n",
    "plot_scatter3d(x1d,y1d,z1d,v3d,filter_uv[imode], \"V mode%d\"%(imode+1))\n",
    "plot_scatter3d(x1d,y1d,z1d,curl3d, filter_curl[imode], \"curl mode%d\"%(imode+1))\n",
    "plot_scatter3d(x1d,y1d,z1d,div3d,filter_div[imode], \"div mode%d\"%(imode+1))"
   ]
  },
  {
   "cell_type": "code",
   "execution_count": null,
   "metadata": {},
   "outputs": [],
   "source": []
  }
 ],
 "metadata": {
  "kernelspec": {
   "display_name": "Python 3",
   "language": "python",
   "name": "python3"
  },
  "language_info": {
   "codemirror_mode": {
    "name": "ipython",
    "version": 3
   },
   "file_extension": ".py",
   "mimetype": "text/x-python",
   "name": "python",
   "nbconvert_exporter": "python",
   "pygments_lexer": "ipython3",
   "version": "3.6.3"
  }
 },
 "nbformat": 4,
 "nbformat_minor": 2
}
